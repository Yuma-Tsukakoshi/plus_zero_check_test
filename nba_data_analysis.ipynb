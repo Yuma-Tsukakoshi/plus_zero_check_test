{
 "cells": [
  {
   "cell_type": "markdown",
   "metadata": {},
   "source": [
    "## ライブラリのインポート"
   ]
  },
  {
   "cell_type": "code",
   "execution_count": null,
   "metadata": {},
   "outputs": [
    {
     "ename": "",
     "evalue": "",
     "output_type": "error",
     "traceback": [
      "\u001b[1;31m' C extension module was built for another version of psutil (5.9.0 instead of 5.9.5); you may try to ' を '5.9.0 instead of 5.9.5' からインポートできなかったため、カーネルを起動できませんでした。\n",
      "\u001b[1;31m詳細については<a href='https://aka.ms/kernelFailuresModuleImportErrFromFile'>こちら</a>をクリックしてください。"
     ]
    }
   ],
   "source": [
    "import numpy as np\n",
    "import pandas as pd\n",
    "import matplotlib.pyplot as plt\n",
    "\n",
    "from sklearn.preprocessing import StandardScaler\n",
    "from sklearn.model_selection import train_test_split\n",
    "from sklearn.linear_model import LogisticRegression\n",
    "from sklearn.metrics import accuracy_score , confusion_matrix, f1_score"
   ]
  },
  {
   "cell_type": "code",
   "execution_count": null,
   "metadata": {},
   "outputs": [
    {
     "ename": "",
     "evalue": "",
     "output_type": "error",
     "traceback": [
      "\u001b[1;31m' C extension module was built for another version of psutil (5.9.0 instead of 5.9.5); you may try to ' を '5.9.0 instead of 5.9.5' からインポートできなかったため、カーネルを起動できませんでした。\n",
      "\u001b[1;31m詳細については<a href='https://aka.ms/kernelFailuresModuleImportErrFromFile'>こちら</a>をクリックしてください。"
     ]
    }
   ],
   "source": [
    "df_games= pd.read_csv('./data/games.csv')\n",
    "df_teams = pd.read_csv('./data/teams.csv')\n",
    "df_columns = ['GAME_ID', 'HOME_TEAM_ID', 'VISITOR_TEAM_ID','PTS_home', 'PTS_away', 'HOME_TEAM_WINS']\n",
    "df = df_games[df_columns]\n",
    "df.head()"
   ]
  },
  {
   "cell_type": "markdown",
   "metadata": {},
   "source": [
    "### モデルを組んで実際に学習してみる"
   ]
  },
  {
   "cell_type": "code",
   "execution_count": null,
   "metadata": {},
   "outputs": [
    {
     "ename": "",
     "evalue": "",
     "output_type": "error",
     "traceback": [
      "\u001b[1;31m' C extension module was built for another version of psutil (5.9.0 instead of 5.9.5); you may try to ' を '5.9.0 instead of 5.9.5' からインポートできなかったため、カーネルを起動できませんでした。\n",
      "\u001b[1;31m詳細については<a href='https://aka.ms/kernelFailuresModuleImportErrFromFile'>こちら</a>をクリックしてください。"
     ]
    }
   ],
   "source": [
    "# 欠損値があるレコードは除去\n",
    "df.dropna(how='any', inplace=True)\n",
    "\n",
    "# 説明変数をdataXに格納\n",
    "dataX = df.drop(['HOME_TEAM_WINS'], axis=1)\n",
    "\n",
    "# 目的変数をdataYに格納\n",
    "dataY = df['HOME_TEAM_WINS']\n",
    "\n",
    "# データの分割を行う（学習用データ 0.8 評価用データ 0.2）\n",
    "X_train, X_test, y_train, y_test = train_test_split(dataX, dataY, test_size=0.2, stratify=dataY)\n",
    "\n",
    "# 訓練データの標準化を行う\n",
    "sc = StandardScaler()\n",
    "X_train = pd.DataFrame(sc.fit_transform(X_train), columns=X_train.columns)\n",
    "X_test = pd.DataFrame(sc.transform(X_test), columns=X_test.columns)\n"
   ]
  },
  {
   "cell_type": "code",
   "execution_count": null,
   "metadata": {},
   "outputs": [
    {
     "ename": "",
     "evalue": "",
     "output_type": "error",
     "traceback": [
      "\u001b[1;31m' C extension module was built for another version of psutil (5.9.0 instead of 5.9.5); you may try to ' を '5.9.0 instead of 5.9.5' からインポートできなかったため、カーネルを起動できませんでした。\n",
      "\u001b[1;31m詳細については<a href='https://aka.ms/kernelFailuresModuleImportErrFromFile'>こちら</a>をクリックしてください。"
     ]
    }
   ],
   "source": [
    "# アンバランスは起きてないことを確認\n",
    "print(df['HOME_TEAM_WINS'].value_counts())"
   ]
  },
  {
   "cell_type": "markdown",
   "metadata": {},
   "source": [
    "## 学習"
   ]
  },
  {
   "cell_type": "code",
   "execution_count": null,
   "metadata": {},
   "outputs": [
    {
     "ename": "",
     "evalue": "",
     "output_type": "error",
     "traceback": [
      "\u001b[1;31m' C extension module was built for another version of psutil (5.9.0 instead of 5.9.5); you may try to ' を '5.9.0 instead of 5.9.5' からインポートできなかったため、カーネルを起動できませんでした。\n",
      "\u001b[1;31m詳細については<a href='https://aka.ms/kernelFailuresModuleImportErrFromFile'>こちら</a>をクリックしてください。"
     ]
    }
   ],
   "source": [
    "# 分類器を作成（ロジスティック回帰）\n",
    "clf = LogisticRegression()\n",
    "\n",
    "# 学習\n",
    "clf.fit(X_train, y_train)"
   ]
  },
  {
   "cell_type": "markdown",
   "metadata": {},
   "source": [
    "## 評価"
   ]
  },
  {
   "cell_type": "code",
   "execution_count": null,
   "metadata": {},
   "outputs": [
    {
     "ename": "",
     "evalue": "",
     "output_type": "error",
     "traceback": [
      "\u001b[1;31m' C extension module was built for another version of psutil (5.9.0 instead of 5.9.5); you may try to ' を '5.9.0 instead of 5.9.5' からインポートできなかったため、カーネルを起動できませんでした。\n",
      "\u001b[1;31m詳細については<a href='https://aka.ms/kernelFailuresModuleImportErrFromFile'>こちら</a>をクリックしてください。"
     ]
    }
   ],
   "source": [
    "# 予測\n",
    "y_pred = clf.predict(X_test_std)\n",
    "\n",
    "print(\"正解率:\", accuracy_score(y_test, y_pred))\n",
    "print(\"混同行列:\",confusion_matrix(y_test, y_pred, labels=[1, 0]))\n",
    "print(\"F値:\", f1_score(y_test, y_pred))"
   ]
  },
  {
   "cell_type": "markdown",
   "metadata": {},
   "source": [
    "### データの可視化を行う"
   ]
  },
  {
   "cell_type": "markdown",
   "metadata": {},
   "source": [
    "ホームチームとアウェイチームの勝率の比較：ホームチームとアウェイチームの勝率をそれぞれ計算し、ホームアドバンテージの有無や程度を見る"
   ]
  },
  {
   "cell_type": "code",
   "execution_count": null,
   "metadata": {},
   "outputs": [
    {
     "ename": "",
     "evalue": "",
     "output_type": "error",
     "traceback": [
      "\u001b[1;31m' C extension module was built for another version of psutil (5.9.0 instead of 5.9.5); you may try to ' を '5.9.0 instead of 5.9.5' からインポートできなかったため、カーネルを起動できませんでした。\n",
      "\u001b[1;31m詳細については<a href='https://aka.ms/kernelFailuresModuleImportErrFromFile'>こちら</a>をクリックしてください。"
     ]
    }
   ],
   "source": [
    "# ホームチームとアウェイチームの勝利数を集計する\n",
    "home_wins = df[\"HOME_TEAM_WINS\"].sum()\n",
    "away_wins = len(df) - home_wins\n",
    "\n",
    "# ホームチームとアウェイチームの勝率を計算する\n",
    "home_rate = home_wins / len(df)\n",
    "away_rate = away_wins / len(df)\n",
    "\n",
    "# 棒グラフを描画する\n",
    "plt.bar([\"Home\", \"Away\"], [home_rate, away_rate], color=[\"blue\", \"red\"])\n",
    "plt.title(\"Winning rate of home and away teams\")\n",
    "plt.xlabel(\"Team\")\n",
    "plt.ylabel(\"Winning rate\")\n",
    "plt.show()"
   ]
  },
  {
   "cell_type": "markdown",
   "metadata": {},
   "source": [
    "上記の棒グラフから、ホームコートの方がにわかに勝率が上がることがわかる。"
   ]
  },
  {
   "cell_type": "markdown",
   "metadata": {},
   "source": [
    "チームごとのホームとアウェイでの勝率の差：各チームごとにホームでの勝率とアウェイでの勝率を計算し、その差を求めることで、各チームがホームアドバンテージやアウェイディスアドバンテージにどれくらい影響されるかを見る"
   ]
  },
  {
   "cell_type": "code",
   "execution_count": null,
   "metadata": {},
   "outputs": [
    {
     "ename": "",
     "evalue": "",
     "output_type": "error",
     "traceback": [
      "\u001b[1;31m' C extension module was built for another version of psutil (5.9.0 instead of 5.9.5); you may try to ' を '5.9.0 instead of 5.9.5' からインポートできなかったため、カーネルを起動できませんでした。\n",
      "\u001b[1;31m詳細については<a href='https://aka.ms/kernelFailuresModuleImportErrFromFile'>こちら</a>をクリックしてください。"
     ]
    }
   ],
   "source": [
    "\n",
    "# チームごとにホームでの試合数と勝利数を集計する\n",
    "home_games = df.groupby(\"HOME_TEAM_ID\")[\"GAME_ID\"].count()\n",
    "home_wins = df.groupby(\"HOME_TEAM_ID\")[\"HOME_TEAM_WINS\"].sum()\n",
    "\n",
    "# チームごとにアウェイでの試合数と勝利数を集計する\n",
    "away_games = df.groupby(\"VISITOR_TEAM_ID\")[\"GAME_ID\"].count()\n",
    "away_wins = away_games - df.groupby(\"VISITOR_TEAM_ID\")[\"HOME_TEAM_WINS\"].sum()\n",
    "\n",
    "# チームごとにホームでの勝率とアウェイでの勝率を計算する\n",
    "home_rate = home_wins / home_games\n",
    "away_rate = away_wins / away_games\n",
    "\n",
    "# チームごとにホームとアウェイでの勝率の差を求める\n",
    "rate_diff = home_rate - away_rate\n",
    "\n",
    "# チームごとにホームとアウェイでの勝率の差を棒グラフで描画する\n",
    "fig = plt.figure(figsize=(15,5))\n",
    "\n",
    "# グラフを描画するsubplot領域を作成\n",
    "ax1 = fig.add_subplot(1, 3, 1)\n",
    "ax2 = fig.add_subplot(1, 3, 2)\n",
    "ax3 = fig.add_subplot(1, 3, 3)\n",
    "\n",
    "# 各subplot領域にデータを渡す\n",
    "ax1.bar(df_teams[\"NICKNAME\"], home_rate, width=0.5, color=\"blue\", label=\"Home\")\n",
    "ax2.bar(df_teams[\"NICKNAME\"], away_rate, width=0.5, color=\"red\", label=\"Away\")\n",
    "ax3.bar(df_teams[\"NICKNAME\"], rate_diff, width=0.5, color=\"green\", label=\"Difference\")\n",
    "\n",
    "ax1.set_ylim([0,1])\n",
    "ax2.set_ylim([0,1])\n",
    "ax3.set_ylim([-1,1])\n",
    "\n",
    "# 各subplotにタイトルを追加\n",
    "ax1.set_title(\"Winning rate of home teams\")\n",
    "ax2.set_title(\"Winning rate of away teams\")\n",
    "ax3.set_title(\"Difference of winning rate between home and away\")\n",
    "\n",
    "# 各subplotにxラベルを追加\n",
    "ax1.set_xlabel(\"Team name\")\n",
    "ax2.set_xlabel(\"Team name\")\n",
    "ax3.set_xlabel(\"Team name\")\n",
    "\n",
    "# 各subplotにyラベルを追加\n",
    "ax1.set_ylabel(\"Winning rate\")\n",
    "ax2.set_ylabel(\"Winning rate\")\n",
    "ax3.set_ylabel(\"Winning rate difference\")\n",
    "\n",
    "plt.show()"
   ]
  }
 ],
 "metadata": {
  "kernelspec": {
   "display_name": "openCV-i0rSQ1D3",
   "language": "python",
   "name": "python3"
  },
  "language_info": {
   "codemirror_mode": {
    "name": "ipython",
    "version": 3
   },
   "file_extension": ".py",
   "mimetype": "text/x-python",
   "name": "python",
   "nbconvert_exporter": "python",
   "pygments_lexer": "ipython3",
   "version": "3.8.18"
  },
  "orig_nbformat": 4
 },
 "nbformat": 4,
 "nbformat_minor": 2
}
